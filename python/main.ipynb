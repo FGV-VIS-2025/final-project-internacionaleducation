{
 "cells": [
  {
   "cell_type": "markdown",
   "id": "8b5f174c",
   "metadata": {},
   "source": [
    "# Análise Exploratória"
   ]
  },
  {
   "cell_type": "code",
   "execution_count": 1,
   "id": "c54a88b7",
   "metadata": {},
   "outputs": [],
   "source": [
    "import pandas as pd\n",
    "import numpy as np\n",
    "\n",
    "df = pd.read_csv(\"education.csv\")"
   ]
  },
  {
   "cell_type": "code",
   "execution_count": 2,
   "id": "fdc037ec",
   "metadata": {},
   "outputs": [
    {
     "name": "stdout",
     "output_type": "stream",
     "text": [
      "<class 'pandas.core.frame.DataFrame'>\n",
      "RangeIndex: 907 entries, 0 to 906\n",
      "Data columns (total 12 columns):\n",
      " #   Column             Non-Null Count  Dtype  \n",
      "---  ------             --------------  -----  \n",
      " 0   Country            907 non-null    object \n",
      " 1   City               907 non-null    object \n",
      " 2   University         907 non-null    object \n",
      " 3   Program            907 non-null    object \n",
      " 4   Level              907 non-null    object \n",
      " 5   Duration_Years     907 non-null    float64\n",
      " 6   Tuition_USD        907 non-null    int64  \n",
      " 7   Living_Cost_Index  907 non-null    float64\n",
      " 8   Rent_USD           907 non-null    int64  \n",
      " 9   Visa_Fee_USD       907 non-null    int64  \n",
      " 10  Insurance_USD      907 non-null    int64  \n",
      " 11  Exchange_Rate      907 non-null    float64\n",
      "dtypes: float64(3), int64(4), object(5)\n",
      "memory usage: 85.2+ KB\n"
     ]
    }
   ],
   "source": [
    "df.info()"
   ]
  },
  {
   "cell_type": "code",
   "execution_count": 4,
   "id": "17b48cd4",
   "metadata": {},
   "outputs": [
    {
     "data": {
      "text/html": [
       "<div>\n",
       "<style scoped>\n",
       "    .dataframe tbody tr th:only-of-type {\n",
       "        vertical-align: middle;\n",
       "    }\n",
       "\n",
       "    .dataframe tbody tr th {\n",
       "        vertical-align: top;\n",
       "    }\n",
       "\n",
       "    .dataframe thead th {\n",
       "        text-align: right;\n",
       "    }\n",
       "</style>\n",
       "<table border=\"1\" class=\"dataframe\">\n",
       "  <thead>\n",
       "    <tr style=\"text-align: right;\">\n",
       "      <th></th>\n",
       "      <th>Country</th>\n",
       "      <th>City</th>\n",
       "      <th>University</th>\n",
       "      <th>Program</th>\n",
       "      <th>Level</th>\n",
       "      <th>Duration_Years</th>\n",
       "      <th>Tuition_USD</th>\n",
       "      <th>Living_Cost_Index</th>\n",
       "      <th>Rent_USD</th>\n",
       "      <th>Visa_Fee_USD</th>\n",
       "      <th>Insurance_USD</th>\n",
       "      <th>Exchange_Rate</th>\n",
       "    </tr>\n",
       "  </thead>\n",
       "  <tbody>\n",
       "    <tr>\n",
       "      <th>0</th>\n",
       "      <td>USA</td>\n",
       "      <td>Cambridge</td>\n",
       "      <td>Harvard University</td>\n",
       "      <td>Computer Science</td>\n",
       "      <td>Master</td>\n",
       "      <td>2.0</td>\n",
       "      <td>55400</td>\n",
       "      <td>83.5</td>\n",
       "      <td>2200</td>\n",
       "      <td>160</td>\n",
       "      <td>1500</td>\n",
       "      <td>1.00</td>\n",
       "    </tr>\n",
       "    <tr>\n",
       "      <th>1</th>\n",
       "      <td>UK</td>\n",
       "      <td>London</td>\n",
       "      <td>Imperial College London</td>\n",
       "      <td>Data Science</td>\n",
       "      <td>Master</td>\n",
       "      <td>1.0</td>\n",
       "      <td>41200</td>\n",
       "      <td>75.8</td>\n",
       "      <td>1800</td>\n",
       "      <td>485</td>\n",
       "      <td>800</td>\n",
       "      <td>0.79</td>\n",
       "    </tr>\n",
       "    <tr>\n",
       "      <th>2</th>\n",
       "      <td>Canada</td>\n",
       "      <td>Toronto</td>\n",
       "      <td>University of Toronto</td>\n",
       "      <td>Business Analytics</td>\n",
       "      <td>Master</td>\n",
       "      <td>2.0</td>\n",
       "      <td>38500</td>\n",
       "      <td>72.5</td>\n",
       "      <td>1600</td>\n",
       "      <td>235</td>\n",
       "      <td>900</td>\n",
       "      <td>1.35</td>\n",
       "    </tr>\n",
       "    <tr>\n",
       "      <th>3</th>\n",
       "      <td>Australia</td>\n",
       "      <td>Melbourne</td>\n",
       "      <td>University of Melbourne</td>\n",
       "      <td>Engineering</td>\n",
       "      <td>Master</td>\n",
       "      <td>2.0</td>\n",
       "      <td>42000</td>\n",
       "      <td>71.2</td>\n",
       "      <td>1400</td>\n",
       "      <td>450</td>\n",
       "      <td>650</td>\n",
       "      <td>1.52</td>\n",
       "    </tr>\n",
       "    <tr>\n",
       "      <th>4</th>\n",
       "      <td>Germany</td>\n",
       "      <td>Munich</td>\n",
       "      <td>Technical University of Munich</td>\n",
       "      <td>Mechanical Engineering</td>\n",
       "      <td>Master</td>\n",
       "      <td>2.0</td>\n",
       "      <td>500</td>\n",
       "      <td>70.5</td>\n",
       "      <td>1100</td>\n",
       "      <td>75</td>\n",
       "      <td>550</td>\n",
       "      <td>0.92</td>\n",
       "    </tr>\n",
       "  </tbody>\n",
       "</table>\n",
       "</div>"
      ],
      "text/plain": [
       "     Country       City                      University  \\\n",
       "0        USA  Cambridge              Harvard University   \n",
       "1         UK     London         Imperial College London   \n",
       "2     Canada    Toronto           University of Toronto   \n",
       "3  Australia  Melbourne         University of Melbourne   \n",
       "4    Germany     Munich  Technical University of Munich   \n",
       "\n",
       "                  Program   Level  Duration_Years  Tuition_USD  \\\n",
       "0        Computer Science  Master             2.0        55400   \n",
       "1            Data Science  Master             1.0        41200   \n",
       "2      Business Analytics  Master             2.0        38500   \n",
       "3             Engineering  Master             2.0        42000   \n",
       "4  Mechanical Engineering  Master             2.0          500   \n",
       "\n",
       "   Living_Cost_Index  Rent_USD  Visa_Fee_USD  Insurance_USD  Exchange_Rate  \n",
       "0               83.5      2200           160           1500           1.00  \n",
       "1               75.8      1800           485            800           0.79  \n",
       "2               72.5      1600           235            900           1.35  \n",
       "3               71.2      1400           450            650           1.52  \n",
       "4               70.5      1100            75            550           0.92  "
      ]
     },
     "execution_count": 4,
     "metadata": {},
     "output_type": "execute_result"
    }
   ],
   "source": [
    "df.head(5)"
   ]
  },
  {
   "cell_type": "code",
   "execution_count": 23,
   "id": "168eddb0",
   "metadata": {},
   "outputs": [
    {
     "name": "stdout",
     "output_type": "stream",
     "text": [
      "Contagem de Country:\n",
      "Country\n",
      "UK           93\n",
      "Australia    86\n",
      "USA          78\n",
      "Canada       76\n",
      "Germany      33\n",
      "Name: count, dtype: int64\n",
      "\n",
      "Contagem de City:\n",
      "City\n",
      "Singapore    18\n",
      "Sydney       11\n",
      "Melbourne    11\n",
      "London       10\n",
      "Canberra      8\n",
      "Name: count, dtype: int64\n",
      "\n",
      "Contagem de Level:\n",
      "Level\n",
      "Master      451\n",
      "Bachelor    297\n",
      "PhD         159\n",
      "Name: count, dtype: int64\n",
      "\n"
     ]
    }
   ],
   "source": [
    "for col in [\"Country\", \"City\", \"Level\"]:\n",
    "    print(f\"Contagem de {col}:\")\n",
    "    print(df[col].value_counts().head(5))\n",
    "    print()"
   ]
  },
  {
   "cell_type": "code",
   "execution_count": 51,
   "id": "c5eb24c1",
   "metadata": {},
   "outputs": [
    {
     "name": "stdout",
     "output_type": "stream",
     "text": [
      "Contagem de University:\n",
      "University\n",
      "University of Washington           6\n",
      "Stanford University                5\n",
      "Australian National University     5\n",
      "University of Tasmania             5\n",
      "University of Western Australia    5\n",
      "University of Adelaide             5\n",
      "Griffith University                5\n",
      "University of Sydney               5\n",
      "University of Melbourne            5\n",
      "University of Wollongong           5\n",
      "Name: count, dtype: int64\n",
      "\n",
      "Contagem de Program:\n",
      "Program\n",
      "Computer Science           312\n",
      "Data Science                82\n",
      "Computer Engineering        71\n",
      "Software Engineering        57\n",
      "Artificial Intelligence     53\n",
      "Data Analytics              50\n",
      "Information Systems         40\n",
      "Information Technology      24\n",
      "Software Development        22\n",
      "Data Engineering            19\n",
      "Name: count, dtype: int64\n",
      "\n"
     ]
    }
   ],
   "source": [
    "for col in [\"University\", \"Program\"]:\n",
    "    print(f\"Contagem de {col}:\")\n",
    "    print(df[col].value_counts().head(10))\n",
    "    print()"
   ]
  },
  {
   "cell_type": "code",
   "execution_count": 39,
   "id": "a0385b0a",
   "metadata": {},
   "outputs": [
    {
     "name": "stdout",
     "output_type": "stream",
     "text": [
      "Country\n",
      "Argentina        0.000000\n",
      "Finland          0.000000\n",
      "Iceland          0.000000\n",
      "Norway           0.000000\n",
      "Sweden           0.000000\n",
      "Greece         147.058824\n",
      "Germany        177.272727\n",
      "Luxembourg     400.000000\n",
      "Brazil        1000.000000\n",
      "Algeria       1100.000000\n",
      "Name: Tuition_USD, dtype: float64\n",
      "Country\n",
      "Lebanon        14200.000000\n",
      "Ireland        17890.000000\n",
      "Hong Kong      22000.000000\n",
      "UAE            24687.500000\n",
      "New Zealand    29333.333333\n",
      "Canada         29456.578947\n",
      "UK             30341.935484\n",
      "Singapore      34172.222222\n",
      "Australia      34610.465116\n",
      "USA            47742.307692\n",
      "Name: Tuition_USD, dtype: float64\n"
     ]
    }
   ],
   "source": [
    "new_df = df.groupby(\"Country\")[\"Tuition_USD\"].mean()\n",
    "df_sorted = new_df.sort_values()\n",
    "print(df_sorted.head(10))\n",
    "print(df_sorted.tail(10))"
   ]
  },
  {
   "cell_type": "code",
   "execution_count": null,
   "id": "bd699890",
   "metadata": {},
   "outputs": [
    {
     "data": {
      "text/plain": [
       "Program\n",
       "Aerospace Engineering        52300.000000\n",
       "Industrial Engineering       43800.000000\n",
       "Chemical Engineering         40900.000000\n",
       "Computer Science & Design    31200.000000\n",
       "Psychology                   31200.000000\n",
       "Political Science            28900.000000\n",
       "Computer Science             28137.333333\n",
       "Computing Systems            27500.000000\n",
       "Software Systems             25500.000000\n",
       "Physics                      23500.000000\n",
       "Mathematics                  22066.666667\n",
       "Finance                      22000.000000\n",
       "Economics                    21600.000000\n",
       "Engineering                  20900.000000\n",
       "Business                     20450.000000\n",
       "Information Technology       16328.571429\n",
       "Marine Biology               14250.000000\n",
       "Data Analytics               13287.500000\n",
       "Software Engineering         11926.470588\n",
       "Medicine                      9800.000000\n",
       "Computer Engineering          9795.384615\n",
       "Information Systems           7865.625000\n",
       "Information Science           7800.000000\n",
       "Software Development          7571.428571\n",
       "Data Science                  7319.166667\n",
       "Mechatronics                  5800.000000\n",
       "Computing                     5500.000000\n",
       "Robotics                      5200.000000\n",
       "Electronics Engineering       5200.000000\n",
       "Artificial Intelligence       4683.333333\n",
       "Design                        4200.000000\n",
       "Digital Systems               3900.000000\n",
       "Biomedical Sciences           3500.000000\n",
       "Architecture                  3150.000000\n",
       "Data Engineering              2400.000000\n",
       "Social Sciences               1500.000000\n",
       "Business Informatics          1440.000000\n",
       "Computer Systems              1300.000000\n",
       "Digital Innovation             890.000000\n",
       "Mechanical Engineering         750.000000\n",
       "Environmental Science            0.000000\n",
       "Energy Engineering               0.000000\n",
       "Digital Business                 0.000000\n",
       "International Business           0.000000\n",
       "Name: Tuition_USD, dtype: float64"
      ]
     },
     "execution_count": 50,
     "metadata": {},
     "output_type": "execute_result"
    }
   ],
   "source": [
    "levels_df = df[df[\"Level\"] == \"Bachelor\"]\n",
    "\n",
    "levels_df.groupby(\"Program\")[\"Tuition_USD\"].mean().sort_values(ascending=False)"
   ]
  },
  {
   "cell_type": "markdown",
   "id": "496be9f3",
   "metadata": {},
   "source": [
    "## Convertendo para json\n",
    "\n",
    "Mais fácil de trabalhar com json no javascript"
   ]
  },
  {
   "cell_type": "code",
   "execution_count": 54,
   "id": "4c33e1e4",
   "metadata": {},
   "outputs": [
    {
     "name": "stdout",
     "output_type": "stream",
     "text": [
      "Converted education.csv to ../static/education.json with 907 records.\n"
     ]
    }
   ],
   "source": [
    "import csv\n",
    "import json\n",
    "\n",
    "csv_file = 'education.csv'\n",
    "json_file = '../static/education.json'\n",
    "\n",
    "data = []\n",
    "\n",
    "with open(csv_file, encoding='utf-8') as f:\n",
    "    reader = csv.DictReader(f)\n",
    "    for row in reader:\n",
    "        data.append(row)\n",
    "\n",
    "with open(json_file, 'w', encoding='utf-8') as f:\n",
    "    json.dump(data, f, ensure_ascii=False, indent=2)\n",
    "\n",
    "print(f'Converted {csv_file} to {json_file} with {len(data)} records.')\n"
   ]
  }
 ],
 "metadata": {
  "kernelspec": {
   "display_name": "Python 3",
   "language": "python",
   "name": "python3"
  },
  "language_info": {
   "codemirror_mode": {
    "name": "ipython",
    "version": 3
   },
   "file_extension": ".py",
   "mimetype": "text/x-python",
   "name": "python",
   "nbconvert_exporter": "python",
   "pygments_lexer": "ipython3",
   "version": "3.11.9"
  }
 },
 "nbformat": 4,
 "nbformat_minor": 5
}
